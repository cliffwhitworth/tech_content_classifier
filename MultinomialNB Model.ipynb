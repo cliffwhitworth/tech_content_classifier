{
 "cells": [
  {
   "cell_type": "markdown",
   "metadata": {},
   "source": [
    "## MultinomialNB Model"
   ]
  },
  {
   "cell_type": "code",
   "execution_count": 3,
   "metadata": {},
   "outputs": [],
   "source": [
    "import pickle\n",
    "import numpy as np\n",
    "from scipy.sparse import csr_matrix\n",
    "\n",
    "# Open cv and classifier\n",
    "with open('./cv_test.pkl', 'rb') as cv_file:\n",
    "        cv = pickle.load(cv_file)\n",
    "\n",
    "with open('./naive_bayes_classifier_test.pkl', 'rb') as model_file:\n",
    "        model = pickle.load(model_file)"
   ]
  },
  {
   "cell_type": "code",
   "execution_count": 4,
   "metadata": {},
   "outputs": [
    {
     "name": "stdout",
     "output_type": "stream",
     "text": [
      "0 = Content; 1 = Tech  [1]\n"
     ]
    }
   ],
   "source": [
    "# Some test data (0 = Content; 1 = Tech)\n",
    "# text = \"Dear One, Can you explain this activity to me? Thank you!\" # Content\n",
    "text = \"Dear One, My computer froze and i lost an attempt? Thank you!\" # Tech\n",
    "\n",
    "# clean the text\n",
    "import re\n",
    "import nltk    \n",
    "# nltk.download('stopwords')\n",
    "from nltk.corpus import stopwords\n",
    "from nltk.stem.porter import PorterStemmer\n",
    "\n",
    "body_wash = re.sub('[^a-zA-Z]', ' ', text)\n",
    "body_wash = body_wash.lower()\n",
    "body_wash = body_wash.split()\n",
    "ps = PorterStemmer()\n",
    "body_wash = [ps.stem(word) for word in body_wash if not word in set(stopwords.words('english'))]\n",
    "body_wash = [' '.join(body_wash)]\n",
    "\n",
    "prepared_text = cv.transform(body_wash)\n",
    "# print(body_wash)\n",
    "# print(prepared_text)\n",
    "# print(type(prepared_text))\n",
    "\n",
    "print('0 = Content; 1 = Tech ', model.predict(csr_matrix((prepared_text), dtype=np.int8).toarray()))"
   ]
  }
 ],
 "metadata": {
  "kernelspec": {
   "display_name": "Python 3",
   "language": "python",
   "name": "python3"
  },
  "language_info": {
   "codemirror_mode": {
    "name": "ipython",
    "version": 3
   },
   "file_extension": ".py",
   "mimetype": "text/x-python",
   "name": "python",
   "nbconvert_exporter": "python",
   "pygments_lexer": "ipython3",
   "version": "3.6.5"
  }
 },
 "nbformat": 4,
 "nbformat_minor": 2
}
